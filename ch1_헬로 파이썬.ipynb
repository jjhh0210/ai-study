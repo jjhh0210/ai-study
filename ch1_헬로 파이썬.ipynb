{
 "cells": [
  {
   "cell_type": "markdown",
   "metadata": {},
   "source": [
    "## 1.4 파이썬 스크립트 파일"
   ]
  },
  {
   "cell_type": "markdown",
   "metadata": {},
   "source": [
    "### 1.4.2 클래스"
   ]
  },
  {
   "cell_type": "code",
   "execution_count": 3,
   "metadata": {},
   "outputs": [],
   "source": [
    "class Man:\n",
    "    def __init__(self, name):\n",
    "        self.name = name\n",
    "        print(\"Initialized\")\n",
    "    \n",
    "    def hello(self):\n",
    "        print(\"Hello \"+ self.name + \"!\")\n",
    "    \n",
    "    def bye(self):\n",
    "        print(\"Bye \"+self.name+\"!\")"
   ]
  },
  {
   "cell_type": "code",
   "execution_count": 4,
   "metadata": {},
   "outputs": [
    {
     "name": "stdout",
     "output_type": "stream",
     "text": [
      "Initialized\n",
      "Hello jihyun!\n",
      "Bye jihyun!\n"
     ]
    }
   ],
   "source": [
    "m = Man(\"jihyun\")\n",
    "m.hello()\n",
    "m.bye()"
   ]
  },
  {
   "cell_type": "markdown",
   "metadata": {},
   "source": [
    "## 1.5 넘파이\n",
    "- 수치 계산용 외부 라이브러리, 넘파이의 배열 클래스인 numpy.array에 배열(행렬)을 다루기 편한 메서드가 많음."
   ]
  },
  {
   "cell_type": "code",
   "execution_count": 5,
   "metadata": {},
   "outputs": [],
   "source": [
    "import numpy as np"
   ]
  },
  {
   "cell_type": "code",
   "execution_count": 9,
   "metadata": {},
   "outputs": [
    {
     "name": "stdout",
     "output_type": "stream",
     "text": [
      "<class 'numpy.ndarray'>\n",
      "[3. 5.]\n",
      "[1.  1.5]\n"
     ]
    }
   ],
   "source": [
    "# 1.5.2 배열 생성 -> 넘파이가 제공하는 특수한 형태의 배열(numpy.ndarray)로 반환\n",
    "x = np.array([1.0,2.0])\n",
    "print(type(x))\n",
    "\n",
    "# 1.5.3 넘파이 배열로 산술 연산\n",
    "y = np.array([2.0,3.0])\n",
    "print(x+y)\n",
    "print(y/2)"
   ]
  },
  {
   "cell_type": "code",
   "execution_count": 8,
   "metadata": {},
   "outputs": [
    {
     "name": "stdout",
     "output_type": "stream",
     "text": [
      "(2, 3)\n",
      "int64\n"
     ]
    }
   ],
   "source": [
    "# 1.5.4 N차원 배열 - 1차원: 벡터, 2차원: 행렬, 벡터와 행렬을 일반화: 텐서\n",
    "a = np.array([[1,2,3],[4,5,6]])\n",
    "print(a.shape)\n",
    "print(a.dtype)"
   ]
  },
  {
   "cell_type": "code",
   "execution_count": 13,
   "metadata": {},
   "outputs": [
    {
     "data": {
      "text/plain": [
       "array([[10, 40],\n",
       "       [30, 80]])"
      ]
     },
     "execution_count": 13,
     "metadata": {},
     "output_type": "execute_result"
    }
   ],
   "source": [
    "# 1.5.5 브로드캐스트: 스칼라/1차원배열이 a 행렬의 shape으로 변형된 후 연산이 이루어지는 기능\n",
    "a = np.array([[1,2],[3,4]])\n",
    "b = np.array([10,20])   # [[10,20],[10,20]]으로 확대됨\n",
    "a*b\n"
   ]
  },
  {
   "cell_type": "code",
   "execution_count": null,
   "metadata": {},
   "outputs": [],
   "source": []
  }
 ],
 "metadata": {
  "kernelspec": {
   "display_name": "base",
   "language": "python",
   "name": "python3"
  },
  "language_info": {
   "codemirror_mode": {
    "name": "ipython",
    "version": 3
   },
   "file_extension": ".py",
   "mimetype": "text/x-python",
   "name": "python",
   "nbconvert_exporter": "python",
   "pygments_lexer": "ipython3",
   "version": "3.11.7"
  }
 },
 "nbformat": 4,
 "nbformat_minor": 2
}
