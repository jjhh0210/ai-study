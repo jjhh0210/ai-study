{
 "cells": [
  {
   "cell_type": "markdown",
   "metadata": {},
   "source": [
    "## 2.1 퍼셉트론이란?\n"
   ]
  },
  {
   "cell_type": "markdown",
   "metadata": {},
   "source": [
    "- 다수의 입력을 받아 하나의 신호를 출력\n",
    "- 동작원리\n",
    "    1) 입력 신호가 노드(뉴런)에 보내질 때, 고유한 가중치가 곱해짐.\n",
    "    2) 노드에서 보내온 여러 신호의 총합이 임계값(세타)을 **초과**하면 1을 출력(=뉴런을 활성화한다).\n",
    "- 퍼셉트론의 매개변수 : 가중치, 편향(-임계값)\n",
    "    - 가중치(w): 각 입력 신호가 결과에 주는 **영향력**(중요도)을 조절하는 매개변수 (가중치가 클수록 해당 신호는 중요하다)\n",
    "    - 편향(b): 뉴런이 **얼마나 쉽게 활성화(1) 될 것인지**를 결정하는 매개변수\n",
    "        - b = -20.0 -> 가중치*신호 값들의 합이 20 초과해야만 활성화됨을 의미 \n",
    "- 퍼셉트론으로 AND, NAND, OR 논리 회로를 표현 할 수 있음. 퍼셉트론의 구조는 AND, NAND, OR 게이트 모두에서 똑같음. **매개변수의 값**만 논리회로에 맞게 조정하면 됨."
   ]
  },
  {
   "cell_type": "markdown",
   "metadata": {},
   "source": [
    "## 2.3 퍼셉트론 구현하기\n",
    "- 논리 회로 구현하기\n",
    "    - AND, NAND, OR 게이트: 단층 퍼셉트론은 하나의 직선으로 각 출력 값(0과 1)을 구분하는 두 영역을 만들 수 있다.\n",
    "- ex) OR 게이트<br> \n",
    "<img src = \"https://velog.velcdn.com/images%2Fcitizenyves%2Fpost%2F5e1e58ac-0bc7-40ce-82e8-b3f1642349e8%2Fimage.png\" width = \"400px\" height=\"400px\">\n"
   ]
  },
  {
   "cell_type": "code",
   "execution_count": 8,
   "metadata": {},
   "outputs": [
    {
     "data": {
      "text/plain": [
       "(0, 0, 0, 1)"
      ]
     },
     "execution_count": 8,
     "metadata": {},
     "output_type": "execute_result"
    }
   ],
   "source": [
    "## 2.3.1 간단히 구현\n",
    "def SIMPLE_AND(x1,x2):\n",
    "    w1, w2, theta = 0.5,0.5,0.7\n",
    "    \n",
    "    tmp = w1*x1+w2*x2\n",
    "    if tmp<=theta:\n",
    "        return 0\n",
    "    else:\n",
    "        return 1 \n",
    "SIMPLE_AND(0,0), SIMPLE_AND(1,0), SIMPLE_AND(0,1), SIMPLE_AND(1,1)\n"
   ]
  },
  {
   "cell_type": "code",
   "execution_count": 13,
   "metadata": {},
   "outputs": [
    {
     "name": "stdout",
     "output_type": "stream",
     "text": [
      "0 0 0 1\n",
      "1 1 1 0\n",
      "0 1 1 1\n"
     ]
    }
   ],
   "source": [
    "## 2.3.2~3 가중치와 편향 도입\n",
    "# 세타 = -b라 생각해보자\n",
    "# w*x+b <=0 : 0, >0 : 1\n",
    "\n",
    "import numpy as np\n",
    "\n",
    "def AND(x1,x2):\n",
    "    x = np.array([x1,x2])\n",
    "    # 매개변수 설정   \n",
    "    w = np.array([0.5, 0.5])    # NAND:[-0.5, -0.5], OR: [1.0, 1.0]\n",
    "    b = -0.7                    \n",
    "    \n",
    "    tmp = np.sum(w*x)+b\n",
    "    if tmp<=0:\n",
    "        return 0\n",
    "    else:\n",
    "        return 1 \n",
    "\n",
    "def NAND(x1, x2):\n",
    "    x = np.array([x1,x2])\n",
    "    w = np.array([-0.5, -0.5])\n",
    "    b = 0.7\n",
    "\n",
    "    tmp = np.sum(w*x)+b\n",
    "    if tmp<=0:\n",
    "        return 0\n",
    "    else:\n",
    "        return 1\n",
    "    \n",
    "def OR(x1, x2):\n",
    "    x = np.array([x1,x2])\n",
    "    w = np.array([1.0, 1.0])\n",
    "    b = -0.3\n",
    "\n",
    "    return 0 if np.sum(w*x)+b <= 0 else 1\n",
    "\n",
    "print(AND(0,0), AND(1,0), AND(0,1), AND(1,1))\n",
    "print(NAND(0,0), NAND(1,0), NAND(0,1), NAND(1,1))\n",
    "print(OR(0,0), OR(1,0), OR(0,1), OR(1,1))\n",
    "\n"
   ]
  },
  {
   "cell_type": "markdown",
   "metadata": {},
   "source": [
    "## 2.4 퍼셉트론의 한계\n",
    "- 단층(싱글 레이어) 퍼셉트론으로는 XOR 게이트를 구현할 수 없다(비선형 영역을 분리할 수 없다)\n",
    "    - w1x1+w2x2+b 직선형태로 0과 1의 영역을 나눌 수 없음..!<br>\n",
    "    <img src = \"https://velog.velcdn.com/images%2Fcitizenyves%2Fpost%2Fbefaf149-5583-417e-acdc-a3e80687576b%2Fimage.png\" width = \"400px\" height=\"400px\">\n",
    "\n",
    "- 즉, 단층 퍼셉트론은 직선 하나로 나눈 영역만 표현할 수 있다는 한계가 있다."
   ]
  },
  {
   "cell_type": "markdown",
   "metadata": {},
   "source": [
    "## 2.5 다층 퍼셉트론이 출동한다면\n",
    "- 한계 극복 -> 층을 쌓아 다층 퍼셉트론을 만들어서 비선형으로 나눌 수 있다.\n",
    "- XOR = (NAND) AND (OR)\n",
    "    - 2층 퍼셉트론 구조를 사용하여 XOR 구현<br>\n",
    "    <img src = \"https://velog.velcdn.com/images%2Fcitizenyves%2Fpost%2F698e42f0-66da-4d87-aa5f-f292fb7ac5c4%2Fimage.png\" width = \"500px\" height=\"300px\">\n",
    "    <img src = \"https://velog.velcdn.com/images%2Fcitizenyves%2Fpost%2F209b81fe-121e-43ea-a0f6-fd7e6698631b%2Fimage.png\" width = \"500px\" height=\"300px\"><br>\n",
    "    - 가중치를 갖는 층은 사실 2개뿐이라 2층 퍼셉트론이라 부르기로 하자!(0~1층, 1~2층)\n",
    "- 퍼셉트론은 층을 거듭쌓으면서 비선형적인 표현이 가능하다!"
   ]
  },
  {
   "cell_type": "code",
   "execution_count": 15,
   "metadata": {},
   "outputs": [
    {
     "data": {
      "text/plain": [
       "(0, 1, 1, 0)"
      ]
     },
     "execution_count": 15,
     "metadata": {},
     "output_type": "execute_result"
    }
   ],
   "source": [
    "### 2.5.5 XOR 게이트 구현하기\n",
    "def XOR(x1,x2):\n",
    "    s1 = NAND(x1,x2)\n",
    "    s2 = OR(x1,x2)\n",
    "    y = AND(s1,s2)\n",
    "\n",
    "    return y\n",
    "XOR(0,0), XOR(1,0), XOR(0,1) ,XOR(1,1)"
   ]
  },
  {
   "cell_type": "markdown",
   "metadata": {},
   "source": [
    "## 2.7 정리\n",
    "- 퍼셉트론은 입출력을 갖춘 알고리즘이다. 입력을 주면 정해진 규칙에 따른 값을 출력한다.\n",
    "- 퍼셉트론에서 '가중치'와 '편향'을 매개변수로 설정한다.\n",
    "- 퍼셉트론으로는 논리 회로를 표현할 수 있다.\n",
    "- XOR 게이트는 단층 퍼셉트론으로는 표현할 수 없다. -> 2층 퍼셉트론을 이용하면 XOR 게이트를 표현할 수 있다. \n",
    "- 단층 퍼셉트론은 직선형 영역만 표현가능, 다층 퍼셉트론은 비선형 영역도 표현 가능\n",
    "- 다층 퍼셉트론은(이론상) 컴퓨터를 표현할 수 있다."
   ]
  },
  {
   "cell_type": "markdown",
   "metadata": {},
   "source": [
    "## "
   ]
  }
 ],
 "metadata": {
  "kernelspec": {
   "display_name": "base",
   "language": "python",
   "name": "python3"
  },
  "language_info": {
   "codemirror_mode": {
    "name": "ipython",
    "version": 3
   },
   "file_extension": ".py",
   "mimetype": "text/x-python",
   "name": "python",
   "nbconvert_exporter": "python",
   "pygments_lexer": "ipython3",
   "version": "3.11.7"
  }
 },
 "nbformat": 4,
 "nbformat_minor": 2
}
