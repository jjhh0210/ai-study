{
 "cells": [
  {
   "cell_type": "markdown",
   "metadata": {},
   "source": [
    "## 2.1 퍼셉트론이란?\n"
   ]
  },
  {
   "cell_type": "markdown",
   "metadata": {},
   "source": [
    "- 다수의 입력을 받아 하나의 신호를 출력\n",
    "- 동작원리\n",
    "    1) 입력 신호가 노드(뉴런)에 보내질 때, 고유한 가중치가 곱해짐.\n",
    "    2) 노드에서 보내온 여러 신호의 총합이 임계값(세타)을 **초과**하면 1을 출력(=뉴런을 활성화한다).\n",
    "- 퍼셉트론의 매개변수 : 가중치, 편향(-임계값)\n",
    "    - 가중치(w): 각 입력 신호가 결과에 주는 **영향력**(중요도)을 조절하는 매개변수 (가중치가 클수록 해당 신호는 중요하다)\n",
    "    - 편향(b): 뉴런이 **얼마나 쉽게 활성화(1) 될 것인지**를 결정하는 매개변수\n",
    "        - b = -20.0 -> 가중치*신호 값들의 합이 20 초과해야만 활성화됨을 의미 \n",
    "- 퍼셉트론으로 AND, NAND, OR 논리 회로를 표현 할 수 있음. 퍼셉트론의 구조는 AND, NAND, OR 게이트 모두에서 똑같음. **매개변수의 값**만 논리회로에 맞게 조정하면 됨."
   ]
  },
  {
   "cell_type": "markdown",
   "metadata": {},
   "source": [
    "## 2.3 퍼셉트론 구현하기\n",
    "- 논리 회로 구현하기"
   ]
  },
  {
   "cell_type": "code",
   "execution_count": 12,
   "metadata": {},
   "outputs": [
    {
     "data": {
      "text/plain": [
       "(0, 0, 0, 1)"
      ]
     },
     "execution_count": 12,
     "metadata": {},
     "output_type": "execute_result"
    }
   ],
   "source": [
    "## 2.3.1 간단히 구현\n",
    "def AND(x1,x2):\n",
    "    w1, w2, theta = 0.5,0.5,0.7\n",
    "    \n",
    "    tmp = w1*x1+w2*x2\n",
    "    if tmp<=theta:\n",
    "        return 0\n",
    "    else:\n",
    "        return 1 \n",
    "AND(0,0), AND(1,0), AND(0,1), AND(1,1)"
   ]
  },
  {
   "cell_type": "code",
   "execution_count": 15,
   "metadata": {},
   "outputs": [
    {
     "data": {
      "text/plain": [
       "(0, 0, 0, 1)"
      ]
     },
     "execution_count": 15,
     "metadata": {},
     "output_type": "execute_result"
    }
   ],
   "source": [
    "## 2.3.2~3 가중치와 편향 도입\n",
    "# 세타 = -b라 생각해보자\n",
    "# w*x+b <=0 : 0, >0 : 1\n",
    "\n",
    "import numpy as np\n",
    "\n",
    "def AND(x1,x2):\n",
    "    x = np.array([x1,x2])\n",
    "    # 매개변수 설정   \n",
    "    w = np.array([0.5, 0.5])    # NAND:[-0.5, -0.5], OR: [1.0, 1.0]\n",
    "    b = -0.7                    \n",
    "    \n",
    "    tmp = np.sum(w*x)+b\n",
    "    if tmp<=0:\n",
    "        return 0\n",
    "    else:\n",
    "        return 1 \n",
    "AND(0,0), AND(1,0), AND(0,1), AND(1,1)\n"
   ]
  },
  {
   "cell_type": "code",
   "execution_count": null,
   "metadata": {},
   "outputs": [],
   "source": []
  },
  {
   "cell_type": "code",
   "execution_count": null,
   "metadata": {},
   "outputs": [],
   "source": []
  }
 ],
 "metadata": {
  "kernelspec": {
   "display_name": "base",
   "language": "python",
   "name": "python3"
  },
  "language_info": {
   "codemirror_mode": {
    "name": "ipython",
    "version": 3
   },
   "file_extension": ".py",
   "mimetype": "text/x-python",
   "name": "python",
   "nbconvert_exporter": "python",
   "pygments_lexer": "ipython3",
   "version": "3.11.7"
  }
 },
 "nbformat": 4,
 "nbformat_minor": 2
}
